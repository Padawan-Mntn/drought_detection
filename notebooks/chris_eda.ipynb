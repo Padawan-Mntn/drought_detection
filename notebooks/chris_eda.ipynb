{
 "cells": [
  {
   "cell_type": "markdown",
   "metadata": {},
   "source": [
    "# This is a notebook to explore satellite images"
   ]
  },
  {
   "cell_type": "markdown",
   "metadata": {},
   "source": []
  },
  {
   "cell_type": "code",
   "execution_count": null,
   "metadata": {},
   "outputs": [],
   "source": [
    "import os\n",
    "import matplotlib.pyplot as plt\n",
    "import numpy as np\n",
    "import tensorflow as tf"
   ]
  },
  {
   "cell_type": "code",
   "execution_count": null,
   "metadata": {},
   "outputs": [],
   "source": [
    "# Don't know what that is\n",
    "tf.enable_eager_execution()\n",
    "\n",
    "# Link this somehow to Google Cloud Storage (GCS) validation images bucket directory, e.g. link can be \n",
    "# found on GCS bucket directory gs://...\n",
    "training_files = dirlist('data/val/')"
   ]
  },
  {
   "cell_type": "code",
   "execution_count": null,
   "metadata": {},
   "outputs": [],
   "source": [
    "def parse_visual(data):\n",
    "    '''\n",
    "    This function loads a batch of valisation satellite images and parses these images examples for \n",
    "    some specific features, e.g. spectral bands (B2, B3, B4, see official documentation)\n",
    "    \n",
    "    Input(s): - bunch of training files satellite images (please double check)\n",
    "    Outputs:  - parsed example, e.g. images in 3D matrix? -> please double check\n",
    "    '''\n",
    "    dataset = tf.data.TFRecordDataset(data)\n",
    "    # pattern for one part file\n",
    "    # dataset = tf.data.TFRecordDataset('part-r-00099')\n",
    "    iterator = dataset.make_one_shot_iterator()\n",
    "\n",
    "    features = {\n",
    "        'B2': tf.FixedLenFeature([], tf.string),\n",
    "        'B3': tf.FixedLenFeature([], tf.string),\n",
    "        'B4': tf.FixedLenFeature([], tf.string),\n",
    "        'label': tf.FixedLenFeature([], tf.int64),\n",
    "    }\n",
    "\n",
    "    parsed_examples = [tf.parse_single_example(data, features) for data in iterator]\n",
    "    return parsed_examples\n",
    "\n",
    "# Loads a batch of satellite images (please double check) from 'data/val (see code block above).'\n",
    "parsed_examples = parse_visual(training_files[0])"
   ]
  },
  {
   "cell_type": "code",
   "execution_count": null,
   "metadata": {},
   "outputs": [],
   "source": [
    "def get_img_from_example(parsed_example, intensify=True):\n",
    "    '''\n",
    "    This function creates an RGB 3D array, e.g. 65x65x3. Then it loads, for some bands / features (B4, B3, B2) a batch of satellite\n",
    "    images, reshapes it from the Tensorflow specific data format into a 2D array of dimension 65x65 pixels.\n",
    "    Next, it does some preprocessing, e.g. divides each pixel by the maximum value of the pixels, and \n",
    "    multiplies every pixel by 255. Only if  intensity=True (please double check).\n",
    "    Otherwise,, if intensify=False, it just multiplies each value in the matrix by 255.\n",
    "    last, it adds a label (please double check), and returns the image 2D array, as well as the label.\n",
    "    \n",
    "    Input(s): - parsed batch of satellite images: Specific Tensorflow format (please double check)\n",
    "    Output(s) - label: string (please double check)\n",
    "              - rgbArray: 2D numpy array (please double check)\n",
    "    Utils:    - None erlier defined function uses (please double check)\n",
    "    '''\n",
    "    rgbArray = np.zeros((65,65,3), 'uint8')\n",
    "    for i, band in enumerate(['B4', 'B3', 'B2']):\n",
    "        band_data = np.frombuffer(parsed_example[band].numpy(), dtype=np.uint8)\n",
    "        band_data = band_data.reshape(65, 65)\n",
    "        if intensify:\n",
    "            band_data = band_data/np.max(band_data)*255\n",
    "        else:\n",
    "            band_data = band_data*255\n",
    "        rgbArray[..., i] = band_data\n",
    "        \n",
    "    label = tf.cast(parsed_example['label'], tf.int32).numpy()\n",
    "        \n",
    "    return rgbArray, label"
   ]
  },
  {
   "cell_type": "code",
   "execution_count": null,
   "metadata": {},
   "outputs": [],
   "source": [
    "'''\n",
    "This snippet should be transformed into a function with keyword arguments (**kwargs).\n",
    "\n",
    "This snippet plots satellite images\n",
    "Utils:    - get_img_from_example(...)\n",
    "'''\n",
    "\n",
    "fig=plt.figure(figsize=(20, 30), dpi= 80, facecolor='w', edgecolor='k')\n",
    "for i in range(1,26):\n",
    "    plt.subplot(5, 5, i)\n",
    "    img, label = img, label = get_img_from_example(parsed_examples[i+7])\n",
    "    plt.imshow(img).axes.get_xaxis().set_visible(False)\n",
    "    plt.imshow(img).axes.get_yaxis().set_visible(False)\n",
    "    plt.title(str(label))\n",
    "\n",
    "fig.show()"
   ]
  }
 ],
 "metadata": {
  "language_info": {
   "name": "python"
  },
  "orig_nbformat": 4
 },
 "nbformat": 4,
 "nbformat_minor": 2
}
